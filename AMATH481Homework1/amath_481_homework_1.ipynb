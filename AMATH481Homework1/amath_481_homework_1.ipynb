{
 "cells": [
  {
   "cell_type": "code",
   "execution_count": 1,
   "metadata": {},
   "outputs": [],
   "source": [
    "import numpy as np"
   ]
  },
  {
   "cell_type": "code",
   "execution_count": 2,
   "metadata": {},
   "outputs": [
    {
     "name": "stdout",
     "output_type": "stream",
     "text": [
      "[-1.6         3.19799514  2.46440244  1.2035359   0.65020146 -0.11692334\n",
      " -0.66052349 -0.52192654 -0.56655274 -0.57074658 -0.57078962 -0.57078962]\n",
      "[-0.55       -0.625      -0.5875     -0.56875    -0.578125   -0.5734375\n",
      " -0.57109375 -0.56992188 -0.57050781 -0.57080078 -0.5706543  -0.57072754\n",
      " -0.57076416 -0.57078247 -0.57079163 -0.57078705 -0.57078934]\n",
      "[11 17]\n"
     ]
    }
   ],
   "source": [
    "# Problem 1.\n",
    "\n",
    "## Newton-Raphson scheme\n",
    "\n",
    "x_newt = np.array([-1.6])  ## initial guess\n",
    "for i in range(1000):  ## iteration scheme, with maximum of 1000 iterations\n",
    "\n",
    "    ## iteration formula, using f'(x_newt) = sin(3x) + 3xcos(3x) - exp(x_newt)\n",
    "    x_newt = np.append(x_newt, x_newt[i] - (x_newt[i] * np.sin(3 * x_newt[i]) - np.exp(x_newt[i])) \n",
    "                  / (np.sin(3 * x_newt[i]) + 3 * x_newt[i] * np.cos(3 * x_newt[i]) - np.exp(x_newt[i])))\n",
    "\n",
    "    fc = x_newt[i] * np.sin(3 * x_newt[i]) - np.exp(x_newt[i])   ## value of f at current x_newt\n",
    "\n",
    "    if abs(fc) < 1e-6:   ## checking if we are within 1e-6 of 0\n",
    "        break\n",
    "\n",
    "## Bisection scheme \n",
    "x_mid = np.array([])  #initializing empty array of midpoint values\n",
    "\n",
    "xl = -0.7; xr = -0.4  ## initial left and right endpoints\n",
    "for i in range(1000):  ## iteration scheme, with maximum 1000 iterations\n",
    "    \n",
    "    xc = (xr + xl)/2  ## generating midpoint\n",
    "    x_mid = np.append(x_mid, xc)  ## appending midpoint to array\n",
    "\n",
    "    fc = xc * np.sin(3 * xc) - np.exp(xc)  ## calculate f at the current midpoint\n",
    "\n",
    "    ## check if tolerance has been achieved\n",
    "    if abs(fc) < 1e-6:\n",
    "        break\n",
    "\n",
    "    ## reassign left or right endpoint\n",
    "    if(fc > 0):  \n",
    "        xl = xc\n",
    "    \n",
    "    else:\n",
    "        xr = xc\n",
    "\n",
    "A1 = x_newt\n",
    "A2 = x_mid\n",
    "A3 = np.array([x_newt.size - 1, x_mid.size])\n",
    "\n",
    "print(A1)\n",
    "print(A2)\n",
    "print(A3)"
   ]
  },
  {
   "cell_type": "code",
   "execution_count": 3,
   "metadata": {},
   "outputs": [
    {
     "name": "stdout",
     "output_type": "stream",
     "text": [
      "[[ 3  2]\n",
      " [-1  3]]\n",
      "[ 3 -4]\n",
      "[ 1 -1]\n",
      "[ 2 -2]\n",
      "[ 1  2 -1]\n",
      "[ 3  5 -1]\n",
      "[[ 2  4]\n",
      " [-2  2]]\n",
      "[[ 4  0 -6]\n",
      " [ 0  0 -2]]\n",
      "[[5 4]\n",
      " [1 0]]\n"
     ]
    }
   ],
   "source": [
    "# Problem 2\n",
    "\n",
    "## Initializing vectors and matrices\n",
    "\n",
    "A = np.array([[1, 2], [-1, 1]])\n",
    "B = np.array([[2, 0], [0, 2]])\n",
    "C = np.array([[2, 0, -3], [0, 0, -1]])\n",
    "D = np.array([[1, 2], [2, 3], [-1, 0]])\n",
    "x = np.array([1,0])\n",
    "y = np.array([0,1])\n",
    "z = np.array([1,2,-1])\n",
    "\n",
    "## (a)\n",
    "A4 = A + B\n",
    "print(A4)\n",
    "\n",
    "## (b)\n",
    "A5 = 3 * x - 4 * y\n",
    "print(A5)\n",
    "\n",
    "## (c)\n",
    "A6 = np.dot(A, x)\n",
    "print(A6)\n",
    "\n",
    "## (d)\n",
    "A7 = np.dot(B, (x-y))\n",
    "print(A7)\n",
    "\n",
    "## (e)\n",
    "A8 = np.dot(D, x)\n",
    "print(A8)\n",
    "\n",
    "## (f)\n",
    "A9 = np.dot(D, y) + z\n",
    "print(A9)\n",
    "\n",
    "## (g)\n",
    "A10 = np.dot(A, B)\n",
    "print(A10)\n",
    "\n",
    "## (h)\n",
    "A11 = np.dot(B, C)\n",
    "print(A11)\n",
    "\n",
    "## (i)\n",
    "A12 = np.dot(C, D)\n",
    "print(A12)"
   ]
  }
 ],
 "metadata": {
  "kernelspec": {
   "display_name": "base",
   "language": "python",
   "name": "python3"
  },
  "language_info": {
   "codemirror_mode": {
    "name": "ipython",
    "version": 3
   },
   "file_extension": ".py",
   "mimetype": "text/x-python",
   "name": "python",
   "nbconvert_exporter": "python",
   "pygments_lexer": "ipython3",
   "version": "3.11.4"
  }
 },
 "nbformat": 4,
 "nbformat_minor": 2
}
